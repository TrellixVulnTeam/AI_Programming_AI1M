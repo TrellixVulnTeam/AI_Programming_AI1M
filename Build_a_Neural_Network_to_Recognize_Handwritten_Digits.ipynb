{
  "nbformat": 4,
  "nbformat_minor": 0,
  "metadata": {
    "colab": {
      "name": "Build a Neural Network to Recognize Handwritten Digits.ipynb",
      "provenance": [],
      "authorship_tag": "ABX9TyOLWK1cJWZSq94CswQDjAHU",
      "include_colab_link": true
    },
    "kernelspec": {
      "name": "python3",
      "display_name": "Python 3"
    },
    "language_info": {
      "name": "python"
    }
  },
  "cells": [
    {
      "cell_type": "markdown",
      "metadata": {
        "id": "view-in-github",
        "colab_type": "text"
      },
      "source": [
        "<a href=\"https://colab.research.google.com/github/Vonewman/AI_Programming/blob/master/Build_a_Neural_Network_to_Recognize_Handwritten_Digits.ipynb\" target=\"_parent\"><img src=\"https://colab.research.google.com/assets/colab-badge.svg\" alt=\"Open In Colab\"/></a>"
      ]
    },
    {
      "cell_type": "markdown",
      "metadata": {
        "id": "iAfQmMkm0KWR"
      },
      "source": [
        "##  Building a “Hello World” Neural Network\n",
        "\n",
        "* 1. Build a computation graph\n",
        "* 2. Set up optimizers\n",
        "* 3. Set up criterion\n",
        "* 4. Set up data\n",
        "* 5. Train the model"
      ]
    },
    {
      "cell_type": "code",
      "metadata": {
        "id": "uDYrChz3yYu3"
      },
      "source": [
        "import torch\n",
        "import torch.nn as nn\n",
        "import torch.optim as optim"
      ],
      "execution_count": 1,
      "outputs": []
    },
    {
      "cell_type": "code",
      "metadata": {
        "id": "EpcV94FL0p3K"
      },
      "source": [
        "net = nn.Linear(1, 1)  # 1. Build a computation graph (a line!)\n",
        "optimizer = optim.SGD(net.parameters(), lr=0.1)  # 2. Setup optimizers\n",
        "criterion = nn.MSELoss()  # 3. Setup criterion\n",
        "x, target = torch.rand((1, )), torch.tensor([0.])  # Set up data "
      ],
      "execution_count": 4,
      "outputs": []
    },
    {
      "cell_type": "markdown",
      "metadata": {
        "id": "iYivC1FI3oPV"
      },
      "source": [
        "#### Train the model"
      ]
    },
    {
      "cell_type": "code",
      "metadata": {
        "colab": {
          "base_uri": "https://localhost:8080/"
        },
        "id": "GCFJ9AmS3f9y",
        "outputId": "7c40c9ec-6506-431c-b88e-9bc00321c99d"
      },
      "source": [
        "for i in range(10):\n",
        "\n",
        "    output = net(x)\n",
        "    loss = criterion(output, target)\n",
        "    print(round(loss.item(), 2))\n",
        "\n",
        "    net.zero_grad()\n",
        "    loss.backward()\n",
        "    optimizer.step()"
      ],
      "execution_count": 5,
      "outputs": [
        {
          "output_type": "stream",
          "text": [
            "0.78\n",
            "0.4\n",
            "0.2\n",
            "0.1\n",
            "0.05\n",
            "0.03\n",
            "0.01\n",
            "0.01\n",
            "0.0\n",
            "0.0\n"
          ],
          "name": "stdout"
        }
      ]
    },
    {
      "cell_type": "markdown",
      "metadata": {
        "id": "8ikQkvGR5koz"
      },
      "source": [
        "## Training My Neural Network on Handwritten Digits"
      ]
    },
    {
      "cell_type": "code",
      "metadata": {
        "id": "QiiPpLPG4703"
      },
      "source": [
        "import torch\n",
        "import torch.nn as nn\n",
        "import torch.optim as optim\n",
        "import torch.nn.functional as F\n",
        "from torchvision import datasets, transforms\n",
        "from torch.optim.lr_scheduler import StepLR"
      ],
      "execution_count": 6,
      "outputs": []
    },
    {
      "cell_type": "markdown",
      "metadata": {
        "id": "hhpTAfsEClDB"
      },
      "source": [
        "### 1. Build a computation graph"
      ]
    },
    {
      "cell_type": "code",
      "metadata": {
        "id": "03b-mL918bLT"
      },
      "source": [
        "class Net(nn.Module):\n",
        "\n",
        "    def __init__(self):\n",
        "\n",
        "        super(Net, self).__init__()\n",
        "        self.conv1 = nn.Conv2d(1, 32, 3, 1)\n",
        "        self.conv2 = nn.Conv2d(32, 64, 3, 1)\n",
        "        self.fc = nn.Linear(1024, 10)\n",
        "\n",
        "    def forward(self, x):\n",
        "        x = F.relu(self.conv1(x))\n",
        "        x = F.relu(self.conv2(x))\n",
        "        x = F.max_pool2d(x, 1)\n",
        "        x = torch.flatten(x, 1)\n",
        "        x = self.fc(x)\n",
        "        output = F.log_softmax(x, dim=1)\n",
        "        return output\n",
        "        \n",
        "net = Net()"
      ],
      "execution_count": 7,
      "outputs": []
    },
    {
      "cell_type": "markdown",
      "metadata": {
        "id": "nci7NhnPFPW7"
      },
      "source": [
        "### 2. Setup optimizer"
      ]
    },
    {
      "cell_type": "code",
      "metadata": {
        "id": "fNJtEaLdC5bH"
      },
      "source": [
        "optimizer = optim.SGD(net.parameters(), lr=0.1)"
      ],
      "execution_count": 8,
      "outputs": []
    },
    {
      "cell_type": "code",
      "metadata": {
        "id": "H8qcYQr1FZev"
      },
      "source": [
        "criterion = nn.NLLLoss()"
      ],
      "execution_count": 9,
      "outputs": []
    },
    {
      "cell_type": "markdown",
      "metadata": {
        "id": "55a72qrGPMgE"
      },
      "source": [
        "### 3. Setup data"
      ]
    },
    {
      "cell_type": "code",
      "metadata": {
        "id": "m6OtqF9NPInR"
      },
      "source": [
        "transform = transforms.Compose([\n",
        "    transforms.Resize((8, 8)),\n",
        "    transforms.ToTensor(),\n",
        "    transforms.Normalize((0.1307,), (0.3081,))\n",
        "])\n",
        "train_dataset = datasets.MNIST(\n",
        "    'data', train=True, download=True, transform=transform)\n",
        "train_loader = torch.utils.data.DataLoader(train_dataset, batch_size=512)\n",
        "val_dataset = datasets.MNIST(\n",
        "    'data', train=False, download=True, transform=transform)\n",
        "val_loader = torch.utils.data.DataLoader(val_dataset, batch_size=512)"
      ],
      "execution_count": 13,
      "outputs": []
    },
    {
      "cell_type": "markdown",
      "metadata": {
        "id": "1iNiSh5dPebm"
      },
      "source": [
        "### 5. Train the model"
      ]
    },
    {
      "cell_type": "code",
      "metadata": {
        "colab": {
          "base_uri": "https://localhost:8080/"
        },
        "id": "ZD18ZUtcPSM6",
        "outputId": "9c0f153c-61c7-4820-df17-2e031901f101"
      },
      "source": [
        "for inputs, target in train_loader:\n",
        "    output = net(inputs)\n",
        "    loss = criterion(output, target)\n",
        "    print(round(loss.item(), 2))\n",
        "\n",
        "    net.zero_grad()\n",
        "    loss.backward()\n",
        "    optimizer.step()"
      ],
      "execution_count": 14,
      "outputs": [
        {
          "output_type": "stream",
          "text": [
            "0.6\n",
            "0.51\n",
            "0.54\n",
            "0.39\n",
            "0.37\n",
            "0.45\n",
            "0.39\n",
            "0.38\n",
            "0.37\n",
            "0.47\n",
            "0.4\n",
            "0.37\n",
            "0.31\n",
            "0.48\n",
            "0.46\n",
            "0.42\n",
            "0.49\n",
            "0.56\n",
            "0.43\n",
            "0.44\n",
            "0.39\n",
            "0.49\n",
            "0.47\n",
            "0.38\n",
            "0.52\n",
            "0.48\n",
            "0.4\n",
            "0.5\n",
            "0.58\n",
            "0.36\n",
            "0.4\n",
            "0.4\n",
            "0.42\n",
            "0.43\n",
            "0.48\n",
            "0.32\n",
            "0.37\n",
            "0.39\n",
            "0.32\n",
            "0.39\n",
            "0.51\n",
            "0.43\n",
            "0.35\n",
            "0.36\n",
            "0.38\n",
            "0.4\n",
            "0.4\n",
            "0.42\n",
            "0.43\n",
            "0.34\n",
            "0.32\n",
            "0.43\n",
            "0.42\n",
            "0.4\n",
            "0.33\n",
            "0.41\n",
            "0.38\n",
            "0.35\n",
            "0.5\n",
            "0.41\n",
            "0.45\n",
            "0.52\n",
            "0.39\n",
            "0.4\n",
            "0.41\n",
            "0.37\n",
            "0.24\n",
            "0.41\n",
            "0.36\n",
            "0.31\n",
            "0.3\n",
            "0.33\n",
            "0.41\n",
            "0.45\n",
            "0.35\n",
            "0.34\n",
            "0.38\n",
            "0.43\n",
            "0.36\n",
            "0.31\n",
            "0.4\n",
            "0.36\n",
            "0.44\n",
            "0.44\n",
            "0.32\n",
            "0.32\n",
            "0.4\n",
            "0.36\n",
            "0.34\n",
            "0.34\n",
            "0.38\n",
            "0.31\n",
            "0.35\n",
            "0.36\n",
            "0.3\n",
            "0.37\n",
            "0.4\n",
            "0.34\n",
            "0.49\n",
            "0.33\n",
            "0.31\n",
            "0.36\n",
            "0.32\n",
            "0.47\n",
            "0.31\n",
            "0.35\n",
            "0.29\n",
            "0.36\n",
            "0.3\n",
            "0.28\n",
            "0.31\n",
            "0.31\n",
            "0.32\n",
            "0.21\n",
            "0.2\n",
            "0.19\n",
            "0.24\n",
            "0.49\n"
          ],
          "name": "stdout"
        }
      ]
    },
    {
      "cell_type": "code",
      "metadata": {
        "colab": {
          "base_uri": "https://localhost:8080/"
        },
        "id": "AtMdOpPEPiRX",
        "outputId": "454c5cc4-8587-4241-e14d-dc230cc6aefe"
      },
      "source": [
        "correct = 0.\n",
        "net.eval()\n",
        "for inputs, target in val_loader:\n",
        "    output = net(inputs)\n",
        "    _, pred = output.max(1)\n",
        "    correct += (pred == target).sum()\n",
        "accuracy = correct / len(val_dataset) * 100.\n",
        "print(f'{accuracy:.2f}% correct')"
      ],
      "execution_count": 15,
      "outputs": [
        {
          "output_type": "stream",
          "text": [
            "84.36% correct\n"
          ],
          "name": "stdout"
        }
      ]
    },
    {
      "cell_type": "code",
      "metadata": {
        "id": "UfZO9cTXPqvm"
      },
      "source": [
        ""
      ],
      "execution_count": null,
      "outputs": []
    }
  ]
}